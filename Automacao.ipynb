{
 "cells": [
  {
   "cell_type": "markdown",
   "metadata": {},
   "source": [
    "# Link to access tableau:\n",
    "\n",
    "https://public.tableau.com/views/Project-DashboardTrendingVideos/Painel1?:language=pt-BR&:sid=&:redirect=auth&:display_count=n&:origin=viz_share_link"
   ]
  },
  {
   "cell_type": "markdown",
   "metadata": {},
   "source": [
    "# Link to presentation: \n",
    "\n",
    "https://1drv.ms/p/c/46487c6b42017898/EXakNevojqJPrGInSYADps4B-KjcIct_d3SVvhuKa-E4EA?e=tRVNbQ&nav=eyJzSWQiOjI1NiwiY0lkIjoyMjEwODY2NTUxfQ"
   ]
  }
 ],
 "metadata": {
  "language_info": {
   "name": "python"
  }
 },
 "nbformat": 4,
 "nbformat_minor": 2
}
